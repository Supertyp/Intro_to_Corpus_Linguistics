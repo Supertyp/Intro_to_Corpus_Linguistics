{
 "cells": [
  {
   "cell_type": "markdown",
   "id": "41e3918a",
   "metadata": {},
   "source": [
    "# The print Command"
   ]
  },
  {
   "cell_type": "code",
   "execution_count": 1,
   "id": "bf1fceef",
   "metadata": {},
   "outputs": [
    {
     "name": "stdout",
     "output_type": "stream",
     "text": [
      "[1] \"This is print command\"\n"
     ]
    }
   ],
   "source": [
    "print (\"This is print command\")"
   ]
  },
  {
   "cell_type": "code",
   "execution_count": null,
   "id": "93970439",
   "metadata": {},
   "outputs": [],
   "source": []
  }
 ],
 "metadata": {
  "kernelspec": {
   "display_name": "R",
   "language": "R",
   "name": "ir"
  },
  "language_info": {
   "codemirror_mode": "r",
   "file_extension": ".r",
   "mimetype": "text/x-r-source",
   "name": "R",
   "pygments_lexer": "r",
   "version": "4.1.3"
  }
 },
 "nbformat": 4,
 "nbformat_minor": 5
}
