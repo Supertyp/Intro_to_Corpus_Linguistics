{
 "cells": [
  {
   "cell_type": "markdown",
   "id": "bed0ca63",
   "metadata": {},
   "source": [
    "## Corpus Linguistics\n",
    "### LING3038/6038\n",
    "### Welcome to R\n",
    "\n",
    "Let's get coding.\n",
    "\n",
    "The text after a # is a comment and doesn't do anything, just gives information\n",
    "\n",
    "text that does not follow a # is a command"
   ]
  },
  {
   "cell_type": "code",
   "execution_count": 4,
   "id": "6ab7fe79",
   "metadata": {},
   "outputs": [
    {
     "data": {
      "text/html": [
       "11"
      ],
      "text/latex": [
       "11"
      ],
      "text/markdown": [
       "11"
      ],
      "text/plain": [
       "[1] 11"
      ]
     },
     "metadata": {},
     "output_type": "display_data"
    }
   ],
   "source": [
    "#comment: you can run simple calculator-style commands in R\n",
    "5+6"
   ]
  },
  {
   "cell_type": "markdown",
   "id": "6d29dffd",
   "metadata": {},
   "source": [
    "A variable stands in for a value. You assign a value to a variable. The variable is then an \"object\" in R and you can use it later in your commands.\n"
   ]
  },
  {
   "cell_type": "code",
   "execution_count": 5,
   "id": "521d2556",
   "metadata": {},
   "outputs": [
    {
     "data": {
      "text/html": [
       "11"
      ],
      "text/latex": [
       "11"
      ],
      "text/markdown": [
       "11"
      ],
      "text/plain": [
       "[1] 11"
      ]
     },
     "metadata": {},
     "output_type": "display_data"
    }
   ],
   "source": [
    "x<- 5+6\n",
    "x"
   ]
  },
  {
   "cell_type": "code",
   "execution_count": 6,
   "id": "045ead15",
   "metadata": {},
   "outputs": [
    {
     "data": {
      "text/html": [
       "17"
      ],
      "text/latex": [
       "17"
      ],
      "text/markdown": [
       "17"
      ],
      "text/plain": [
       "[1] 17"
      ]
     },
     "metadata": {},
     "output_type": "display_data"
    }
   ],
   "source": [
    "y<-x+6\n",
    "y"
   ]
  },
  {
   "cell_type": "code",
   "execution_count": 7,
   "id": "ae590fcf",
   "metadata": {},
   "outputs": [],
   "source": [
    "z<-x+y"
   ]
  },
  {
   "cell_type": "markdown",
   "id": "18e87d2e",
   "metadata": {},
   "source": [
    "Assigning a variable does not call it (print it/make it do something). You need to write z if you want to see the value of z."
   ]
  },
  {
   "cell_type": "code",
   "execution_count": 8,
   "id": "92879fa8",
   "metadata": {},
   "outputs": [
    {
     "data": {
      "text/html": [
       "28"
      ],
      "text/latex": [
       "28"
      ],
      "text/markdown": [
       "28"
      ],
      "text/plain": [
       "[1] 28"
      ]
     },
     "metadata": {},
     "output_type": "display_data"
    }
   ],
   "source": [
    "z"
   ]
  },
  {
   "cell_type": "markdown",
   "id": "613219b0",
   "metadata": {},
   "source": [
    "Now you try."
   ]
  },
  {
   "cell_type": "code",
   "execution_count": 8,
   "id": "f52854c0",
   "metadata": {},
   "outputs": [],
   "source": [
    "#multiple z by 2 (use *)\n",
    "\n"
   ]
  },
  {
   "cell_type": "code",
   "execution_count": 7,
   "id": "6ce25f98",
   "metadata": {},
   "outputs": [],
   "source": [
    "#subract 3 from y\n",
    "\n"
   ]
  },
  {
   "cell_type": "code",
   "execution_count": 9,
   "id": "a0c8e946",
   "metadata": {},
   "outputs": [],
   "source": [
    "#divide z by 4\n",
    "\n"
   ]
  },
  {
   "cell_type": "code",
   "execution_count": 10,
   "id": "9c6d6643",
   "metadata": {},
   "outputs": [
    {
     "data": {
      "text/html": [
       "462"
      ],
      "text/latex": [
       "462"
      ],
      "text/markdown": [
       "462"
      ],
      "text/plain": [
       "[1] 462"
      ]
     },
     "metadata": {},
     "output_type": "display_data"
    }
   ],
   "source": [
    "#use () around your variable assignment to return the answer and save the variable\n",
    "(ans<-6*77)"
   ]
  },
  {
   "cell_type": "markdown",
   "id": "61573bf0",
   "metadata": {},
   "source": [
    "We are doing corpus linguistics, so we need to work with text."
   ]
  },
  {
   "cell_type": "code",
   "execution_count": 9,
   "id": "013eb175",
   "metadata": {},
   "outputs": [
    {
     "data": {
      "text/html": [
       "'once upon a time there were three bears'"
      ],
      "text/latex": [
       "'once upon a time there were three bears'"
      ],
      "text/markdown": [
       "'once upon a time there were three bears'"
      ],
      "text/plain": [
       "[1] \"once upon a time there were three bears\""
      ]
     },
     "metadata": {},
     "output_type": "display_data"
    }
   ],
   "source": [
    "#you can also assign text values\n",
    "phrase<-\"once upon a time there were three bears\"\n",
    "phrase"
   ]
  },
  {
   "cell_type": "code",
   "execution_count": 40,
   "id": "b5d83373",
   "metadata": {},
   "outputs": [
    {
     "data": {
      "text/html": [
       "<ol class=list-inline>\n",
       "\t<li>'apples'</li>\n",
       "\t<li>'soy sauce'</li>\n",
       "\t<li>'noodles'</li>\n",
       "\t<li>'mince'</li>\n",
       "</ol>\n"
      ],
      "text/latex": [
       "\\begin{enumerate*}\n",
       "\\item 'apples'\n",
       "\\item 'soy sauce'\n",
       "\\item 'noodles'\n",
       "\\item 'mince'\n",
       "\\end{enumerate*}\n"
      ],
      "text/markdown": [
       "1. 'apples'\n",
       "2. 'soy sauce'\n",
       "3. 'noodles'\n",
       "4. 'mince'\n",
       "\n",
       "\n"
      ],
      "text/plain": [
       "[1] \"apples\"    \"soy sauce\" \"noodles\"   \"mince\"    "
      ]
     },
     "metadata": {},
     "output_type": "display_data"
    },
    {
     "data": {
      "text/html": [
       "<ol class=list-inline>\n",
       "\t<li>'taxes'</li>\n",
       "\t<li>'clean sink'</li>\n",
       "\t<li>'water plants'</li>\n",
       "</ol>\n"
      ],
      "text/latex": [
       "\\begin{enumerate*}\n",
       "\\item 'taxes'\n",
       "\\item 'clean sink'\n",
       "\\item 'water plants'\n",
       "\\end{enumerate*}\n"
      ],
      "text/markdown": [
       "1. 'taxes'\n",
       "2. 'clean sink'\n",
       "3. 'water plants'\n",
       "\n",
       "\n"
      ],
      "text/plain": [
       "[1] \"taxes\"        \"clean sink\"   \"water plants\""
      ]
     },
     "metadata": {},
     "output_type": "display_data"
    }
   ],
   "source": [
    "#you can assign lists (and more complex objects)\n",
    "#the format c() is important as is the , and \"\" when it's text. spaces aren't important\n",
    "shopping<-c(\"apples\",\"soy sauce\", \"noodles\",    \"mince\")\n",
    "chores<-c(\"taxes\",\"clean sink\",\"water plants\")\n",
    "\n",
    "shopping\n",
    "chores"
   ]
  },
  {
   "cell_type": "code",
   "execution_count": 14,
   "id": "6538a384",
   "metadata": {},
   "outputs": [
    {
     "ename": "ERROR",
     "evalue": "Error in parse(text = x, srcfile = src): <text>:3:26: unexpected ','\n2: \n3: MON_routine<-(\"skin care\",\n                            ^\n",
     "output_type": "error",
     "traceback": [
      "Error in parse(text = x, srcfile = src): <text>:3:26: unexpected ','\n2: \n3: MON_routine<-(\"skin care\",\n                            ^\nTraceback:\n"
     ]
    }
   ],
   "source": [
    "#Fix this code:\n",
    "\n",
    "MON_routine<-(\"skin care\",\"vitamins\", \"affirmations\")\n",
    "TUE_routine< c(\"skin care\",\"walk dog\",\"yoga\")\n",
    "WED_routine<-c(\"eat yogurt\" \"meditate\"   \"brush dog\")\n",
    "THU_routine<-c(drink tea, take vitamins, meditate)\n",
    "\n",
    "MON_routine\n",
    "TUE_routine\n",
    "WED_routine\n",
    "THU_Routine"
   ]
  },
  {
   "cell_type": "code",
   "execution_count": 41,
   "id": "68b36c2b",
   "metadata": {},
   "outputs": [
    {
     "ename": "ERROR",
     "evalue": "Error in data.frame(shopping, chores): arguments imply differing number of rows: 4, 3\n",
     "output_type": "error",
     "traceback": [
      "Error in data.frame(shopping, chores): arguments imply differing number of rows: 4, 3\nTraceback:\n",
      "1. data.frame(shopping, chores)",
      "2. stop(gettextf(\"arguments imply differing number of rows: %s\", \n .     paste(unique(nrows), collapse = \", \")), domain = NA)"
     ]
    }
   ],
   "source": [
    "#you can also make a data frame, another class of object (we will work a lot with these)\n",
    "todos<-data.frame(shopping,chores) #note we need the same number of rows in a data frame so this code will produce an error\n",
    "\n"
   ]
  },
  {
   "cell_type": "code",
   "execution_count": 43,
   "id": "ca2b371b",
   "metadata": {},
   "outputs": [
    {
     "data": {
      "text/html": [
       "<table>\n",
       "<thead><tr><th scope=col>shopping</th><th scope=col>chores2</th></tr></thead>\n",
       "<tbody>\n",
       "\t<tr><td>apples      </td><td>taxes       </td></tr>\n",
       "\t<tr><td>soy sauce   </td><td>clean sink  </td></tr>\n",
       "\t<tr><td>noodles     </td><td>water plants</td></tr>\n",
       "\t<tr><td>mince       </td><td>write essay </td></tr>\n",
       "</tbody>\n",
       "</table>\n"
      ],
      "text/latex": [
       "\\begin{tabular}{r|ll}\n",
       " shopping & chores2\\\\\n",
       "\\hline\n",
       "\t apples       & taxes       \\\\\n",
       "\t soy sauce    & clean sink  \\\\\n",
       "\t noodles      & water plants\\\\\n",
       "\t mince        & write essay \\\\\n",
       "\\end{tabular}\n"
      ],
      "text/markdown": [
       "\n",
       "| shopping | chores2 |\n",
       "|---|---|\n",
       "| apples       | taxes        |\n",
       "| soy sauce    | clean sink   |\n",
       "| noodles      | water plants |\n",
       "| mince        | write essay  |\n",
       "\n"
      ],
      "text/plain": [
       "  shopping  chores2     \n",
       "1 apples    taxes       \n",
       "2 soy sauce clean sink  \n",
       "3 noodles   water plants\n",
       "4 mince     write essay "
      ]
     },
     "metadata": {},
     "output_type": "display_data"
    }
   ],
   "source": [
    "chores2<-c(\"taxes\",\"clean sink\",\"water plants\",\"write essay\")\n",
    "todos2<-data.frame(shopping, chores2)\n",
    "\n",
    "todos2"
   ]
  },
  {
   "cell_type": "code",
   "execution_count": 44,
   "id": "829e33c9",
   "metadata": {},
   "outputs": [
    {
     "data": {
      "text/html": [
       "<ol class=list-inline>\n",
       "\t<li>'chores'</li>\n",
       "\t<li>'chores2'</li>\n",
       "\t<li>'phrase'</li>\n",
       "\t<li>'PHRASE'</li>\n",
       "\t<li>'shopping'</li>\n",
       "\t<li>'todos'</li>\n",
       "\t<li>'todos2'</li>\n",
       "\t<li>'x'</li>\n",
       "\t<li>'y'</li>\n",
       "\t<li>'z'</li>\n",
       "</ol>\n"
      ],
      "text/latex": [
       "\\begin{enumerate*}\n",
       "\\item 'chores'\n",
       "\\item 'chores2'\n",
       "\\item 'phrase'\n",
       "\\item 'PHRASE'\n",
       "\\item 'shopping'\n",
       "\\item 'todos'\n",
       "\\item 'todos2'\n",
       "\\item 'x'\n",
       "\\item 'y'\n",
       "\\item 'z'\n",
       "\\end{enumerate*}\n"
      ],
      "text/markdown": [
       "1. 'chores'\n",
       "2. 'chores2'\n",
       "3. 'phrase'\n",
       "4. 'PHRASE'\n",
       "5. 'shopping'\n",
       "6. 'todos'\n",
       "7. 'todos2'\n",
       "8. 'x'\n",
       "9. 'y'\n",
       "10. 'z'\n",
       "\n",
       "\n"
      ],
      "text/plain": [
       " [1] \"chores\"   \"chores2\"  \"phrase\"   \"PHRASE\"   \"shopping\" \"todos\"   \n",
       " [7] \"todos2\"   \"x\"        \"y\"        \"z\"       "
      ]
     },
     "metadata": {},
     "output_type": "display_data"
    }
   ],
   "source": [
    "#Remember that all of these variables are 'objects' for R\n",
    "#let's see our objects so far\n",
    "objects()\n"
   ]
  },
  {
   "cell_type": "code",
   "execution_count": 18,
   "id": "04163f9c",
   "metadata": {},
   "outputs": [
    {
     "name": "stdout",
     "output_type": "stream",
     "text": [
      "[1] \"once upon a time there were three bears\"\n"
     ]
    },
    {
     "data": {
      "text/html": [
       "5.29150262212918"
      ],
      "text/latex": [
       "5.29150262212918"
      ],
      "text/markdown": [
       "5.29150262212918"
      ],
      "text/plain": [
       "[1] 5.291503"
      ]
     },
     "metadata": {},
     "output_type": "display_data"
    }
   ],
   "source": [
    "#you can run a function on an object\n",
    "#a function is recognizable by its ()\n",
    "print(phrase)  #in R you can print a string just by calling the object, you don't actually need to use the function print()\n",
    "\n",
    "sqrt(z)"
   ]
  },
  {
   "cell_type": "code",
   "execution_count": 15,
   "id": "d0399b22",
   "metadata": {},
   "outputs": [
    {
     "name": "stdout",
     "output_type": "stream",
     "text": [
      "[1] \"ONCE UPON A TIME THERE WERE THREE BEARS\"\n"
     ]
    }
   ],
   "source": [
    "#you can run multiple functions at once\n",
    "print(toupper(phrase))"
   ]
  },
  {
   "cell_type": "code",
   "execution_count": 17,
   "id": "6c1ff34e",
   "metadata": {},
   "outputs": [
    {
     "data": {
      "text/html": [
       "'once upon a time there were three bears'"
      ],
      "text/latex": [
       "'once upon a time there were three bears'"
      ],
      "text/markdown": [
       "'once upon a time there were three bears'"
      ],
      "text/plain": [
       "[1] \"once upon a time there were three bears\""
      ]
     },
     "metadata": {},
     "output_type": "display_data"
    },
    {
     "data": {
      "text/html": [
       "'ONCE UPON A TIME THERE WERE THREE BEARS'"
      ],
      "text/latex": [
       "'ONCE UPON A TIME THERE WERE THREE BEARS'"
      ],
      "text/markdown": [
       "'ONCE UPON A TIME THERE WERE THREE BEARS'"
      ],
      "text/plain": [
       "[1] \"ONCE UPON A TIME THERE WERE THREE BEARS\""
      ]
     },
     "metadata": {},
     "output_type": "display_data"
    }
   ],
   "source": [
    "#functions do not change variables\n",
    "phrase\n",
    "\n",
    "#if you want to save the result of a function, it needs to be assigned to its own object\n",
    "PHRASE<-toupper(phrase)\n",
    "\n",
    "PHRASE"
   ]
  },
  {
   "cell_type": "markdown",
   "id": "f576a5e2",
   "metadata": {},
   "source": [
    "## Packages\n",
    "\n",
    "R has many functions built-in, but you can also install and load a package to have more functions for specific purposes"
   ]
  },
  {
   "cell_type": "code",
   "execution_count": 32,
   "id": "54710521",
   "metadata": {},
   "outputs": [
    {
     "name": "stderr",
     "output_type": "stream",
     "text": [
      "also installing the dependencies 'vctrs', 'rlang', 'tidyselect', 'cli', 'hms', 'lifecycle', 'vroom'\n",
      "\n"
     ]
    },
    {
     "name": "stdout",
     "output_type": "stream",
     "text": [
      "\n",
      "  There are binary versions available but the source versions are later:\n",
      "           binary source needs_compilation\n",
      "vctrs       0.3.8  0.6.3              TRUE\n",
      "rlang      0.4.11  1.1.1              TRUE\n",
      "tidyselect  1.1.1  1.2.0             FALSE\n",
      "cli         2.5.0  3.6.1              TRUE\n",
      "hms         1.0.0  1.1.3             FALSE\n",
      "lifecycle   1.0.0  1.0.3             FALSE\n",
      "vroom       1.4.0  1.6.3              TRUE\n",
      "readr       1.4.0  2.1.4              TRUE\n",
      "data.table 1.14.0 1.14.8              TRUE\n",
      "\n",
      "  Binaries will be installed\n"
     ]
    },
    {
     "name": "stderr",
     "output_type": "stream",
     "text": [
      "Warning message:\n",
      "\"package 'data.table' is in use and will not be installed\""
     ]
    },
    {
     "name": "stdout",
     "output_type": "stream",
     "text": [
      "package 'vctrs' successfully unpacked and MD5 sums checked\n",
      "package 'rlang' successfully unpacked and MD5 sums checked\n",
      "package 'cli' successfully unpacked and MD5 sums checked\n",
      "package 'vroom' successfully unpacked and MD5 sums checked\n",
      "package 'readr' successfully unpacked and MD5 sums checked\n",
      "\n",
      "The downloaded binary packages are in\n",
      "\tC:\\Users\\danie\\AppData\\Local\\Temp\\RtmpUvD3Ag\\downloaded_packages\n"
     ]
    },
    {
     "name": "stderr",
     "output_type": "stream",
     "text": [
      "installing the source packages 'tidyselect', 'hms', 'lifecycle'\n",
      "\n",
      "Warning message in install.packages(c(\"readr\", \"data.table\")):\n",
      "\"installation of package 'lifecycle' had non-zero exit status\"Warning message in install.packages(c(\"readr\", \"data.table\")):\n",
      "\"installation of package 'tidyselect' had non-zero exit status\"Warning message in install.packages(c(\"readr\", \"data.table\")):\n",
      "\"installation of package 'hms' had non-zero exit status\""
     ]
    }
   ],
   "source": [
    "#install packages\n",
    "install.packages(c(\"tokenizers\",\"data.table\"))"
   ]
  },
  {
   "cell_type": "code",
   "execution_count": 33,
   "id": "2cb7b578",
   "metadata": {},
   "outputs": [
    {
     "name": "stderr",
     "output_type": "stream",
     "text": [
      "Warning message:\n",
      "\"package 'readr' was built under R version 3.6.3\""
     ]
    },
    {
     "ename": "ERROR",
     "evalue": "Error: package or namespace load failed for 'readr' in loadNamespace(j <- i[[1L]], c(lib.loc, .libPaths()), versionCheck = vI[[j]]):\n there is no package called 'hms'\n",
     "output_type": "error",
     "traceback": [
      "Error: package or namespace load failed for 'readr' in loadNamespace(j <- i[[1L]], c(lib.loc, .libPaths()), versionCheck = vI[[j]]):\n there is no package called 'hms'\nTraceback:\n",
      "1. library(readr)",
      "2. tryCatch({\n .     attr(package, \"LibPath\") <- which.lib.loc\n .     ns <- loadNamespace(package, lib.loc)\n .     env <- attachNamespace(ns, pos = pos, deps, exclude, include.only)\n . }, error = function(e) {\n .     P <- if (!is.null(cc <- conditionCall(e))) \n .         paste(\" in\", deparse(cc)[1L])\n .     else \"\"\n .     msg <- gettextf(\"package or namespace load failed for %s%s:\\n %s\", \n .         sQuote(package), P, conditionMessage(e))\n .     if (logical.return) \n .         message(paste(\"Error:\", msg), domain = NA)\n .     else stop(msg, call. = FALSE, domain = NA)\n . })",
      "3. tryCatchList(expr, classes, parentenv, handlers)",
      "4. tryCatchOne(expr, names, parentenv, handlers[[1L]])",
      "5. value[[3L]](cond)",
      "6. stop(msg, call. = FALSE, domain = NA)"
     ]
    }
   ],
   "source": [
    "#{tokenizers} has a functions like tokenize_words() to seprate out words into tokens from a string and tokenize_characters() to seprate out characters from strings\n",
    "library(tokenizers) #load the package\n",
    "\n",
    "tokenize_words(phrase)\n",
    "tokenize_characters(PHRASE)"
   ]
  },
  {
   "cell_type": "code",
   "execution_count": 55,
   "id": "1612a901",
   "metadata": {},
   "outputs": [
    {
     "data": {
      "text/html": [
       "<table>\n",
       "<thead><tr><th scope=col>shopping</th><th scope=col>chores2</th></tr></thead>\n",
       "<tbody>\n",
       "\t<tr><td>apples      </td><td>taxes       </td></tr>\n",
       "\t<tr><td>soy sauce   </td><td>clean sink  </td></tr>\n",
       "\t<tr><td>noodles     </td><td>water plants</td></tr>\n",
       "\t<tr><td>mince       </td><td>write essay </td></tr>\n",
       "</tbody>\n",
       "</table>\n"
      ],
      "text/latex": [
       "\\begin{tabular}{r|ll}\n",
       " shopping & chores2\\\\\n",
       "\\hline\n",
       "\t apples       & taxes       \\\\\n",
       "\t soy sauce    & clean sink  \\\\\n",
       "\t noodles      & water plants\\\\\n",
       "\t mince        & write essay \\\\\n",
       "\\end{tabular}\n"
      ],
      "text/markdown": [
       "\n",
       "| shopping | chores2 |\n",
       "|---|---|\n",
       "| apples       | taxes        |\n",
       "| soy sauce    | clean sink   |\n",
       "| noodles      | water plants |\n",
       "| mince        | write essay  |\n",
       "\n"
      ],
      "text/plain": [
       "  shopping  chores2     \n",
       "1 apples    taxes       \n",
       "2 soy sauce clean sink  \n",
       "3 noodles   water plants\n",
       "4 mince     write essay "
      ]
     },
     "metadata": {},
     "output_type": "display_data"
    }
   ],
   "source": [
    "#{data.table} makes nice tables and we will use it a lot in this course. data.tables are better than dataframes, so let's make one out of our lists\n",
    "\n",
    "library(data.table)  #load the package\n",
    "todos<-as.data.table(todos)\n",
    "\n",
    "todos2\n"
   ]
  },
  {
   "cell_type": "code",
   "execution_count": 56,
   "id": "dda45140",
   "metadata": {},
   "outputs": [
    {
     "data": {
      "text/html": [
       "<table>\n",
       "<thead><tr><th scope=col>task.type</th><th scope=col>tasks</th></tr></thead>\n",
       "<tbody>\n",
       "\t<tr><td>shopping    </td><td>apples      </td></tr>\n",
       "\t<tr><td>shopping    </td><td>soy sauce   </td></tr>\n",
       "\t<tr><td>shopping    </td><td>noodles     </td></tr>\n",
       "\t<tr><td>shopping    </td><td>mince       </td></tr>\n",
       "\t<tr><td>chores2     </td><td>taxes       </td></tr>\n",
       "\t<tr><td>chores2     </td><td>clean sink  </td></tr>\n",
       "\t<tr><td>chores2     </td><td>water plants</td></tr>\n",
       "\t<tr><td>chores2     </td><td>write essay </td></tr>\n",
       "</tbody>\n",
       "</table>\n"
      ],
      "text/latex": [
       "\\begin{tabular}{r|ll}\n",
       " task.type & tasks\\\\\n",
       "\\hline\n",
       "\t shopping     & apples      \\\\\n",
       "\t shopping     & soy sauce   \\\\\n",
       "\t shopping     & noodles     \\\\\n",
       "\t shopping     & mince       \\\\\n",
       "\t chores2      & taxes       \\\\\n",
       "\t chores2      & clean sink  \\\\\n",
       "\t chores2      & water plants\\\\\n",
       "\t chores2      & write essay \\\\\n",
       "\\end{tabular}\n"
      ],
      "text/markdown": [
       "\n",
       "| task.type | tasks |\n",
       "|---|---|\n",
       "| shopping     | apples       |\n",
       "| shopping     | soy sauce    |\n",
       "| shopping     | noodles      |\n",
       "| shopping     | mince        |\n",
       "| chores2      | taxes        |\n",
       "| chores2      | clean sink   |\n",
       "| chores2      | water plants |\n",
       "| chores2      | write essay  |\n",
       "\n"
      ],
      "text/plain": [
       "  task.type tasks       \n",
       "1 shopping  apples      \n",
       "2 shopping  soy sauce   \n",
       "3 shopping  noodles     \n",
       "4 shopping  mince       \n",
       "5 chores2   taxes       \n",
       "6 chores2   clean sink  \n",
       "7 chores2   water plants\n",
       "8 chores2   write essay "
      ]
     },
     "metadata": {},
     "output_type": "display_data"
    }
   ],
   "source": [
    "#melt() is a very helpful function in data.table that we will be using later on in the course\n",
    "#melt() restructures your data \n",
    "\n",
    "weekend.list<-melt(todos, measure.vars = c(1:2),              #note, the measure.vars are the columns\n",
    "               variable.name = \"task.type\", value.name = \"tasks\")\n",
    "\n",
    "weekend.list"
   ]
  },
  {
   "cell_type": "code",
   "execution_count": 59,
   "id": "cc730164",
   "metadata": {},
   "outputs": [
    {
     "data": {
      "text/html": [
       "<table>\n",
       "<thead><tr><th scope=col>task.type</th><th scope=col>tasks</th></tr></thead>\n",
       "<tbody>\n",
       "\t<tr><td>shopping    </td><td>apples      </td></tr>\n",
       "\t<tr><td>shopping    </td><td>soy sauce   </td></tr>\n",
       "\t<tr><td>shopping    </td><td>noodles     </td></tr>\n",
       "\t<tr><td>shopping    </td><td>mince       </td></tr>\n",
       "\t<tr><td>chores2     </td><td>taxes       </td></tr>\n",
       "\t<tr><td>chores2     </td><td>clean sink  </td></tr>\n",
       "\t<tr><td>chores2     </td><td>water plants</td></tr>\n",
       "\t<tr><td>chores2     </td><td>write essay </td></tr>\n",
       "</tbody>\n",
       "</table>\n"
      ],
      "text/latex": [
       "\\begin{tabular}{r|ll}\n",
       " task.type & tasks\\\\\n",
       "\\hline\n",
       "\t shopping     & apples      \\\\\n",
       "\t shopping     & soy sauce   \\\\\n",
       "\t shopping     & noodles     \\\\\n",
       "\t shopping     & mince       \\\\\n",
       "\t chores2      & taxes       \\\\\n",
       "\t chores2      & clean sink  \\\\\n",
       "\t chores2      & water plants\\\\\n",
       "\t chores2      & write essay \\\\\n",
       "\\end{tabular}\n"
      ],
      "text/markdown": [
       "\n",
       "| task.type | tasks |\n",
       "|---|---|\n",
       "| shopping     | apples       |\n",
       "| shopping     | soy sauce    |\n",
       "| shopping     | noodles      |\n",
       "| shopping     | mince        |\n",
       "| chores2      | taxes        |\n",
       "| chores2      | clean sink   |\n",
       "| chores2      | water plants |\n",
       "| chores2      | write essay  |\n",
       "\n"
      ],
      "text/plain": [
       "  task.type tasks       \n",
       "1 shopping  apples      \n",
       "2 shopping  soy sauce   \n",
       "3 shopping  noodles     \n",
       "4 shopping  mince       \n",
       "5 chores2   taxes       \n",
       "6 chores2   clean sink  \n",
       "7 chores2   water plants\n",
       "8 chores2   write essay "
      ]
     },
     "metadata": {},
     "output_type": "display_data"
    }
   ],
   "source": [
    "#measure variables can be referred to with numbers (as above) or with names (as below)\n",
    "\n",
    "(friday.list<-melt(todos, measure.vars = c(\"shopping\",\"chores2\"),             \n",
    "                 variable.name = \"task.type\", value.name = \"tasks\"))"
   ]
  },
  {
   "cell_type": "markdown",
   "id": "db1ee3d8",
   "metadata": {},
   "source": [
    "In a dataframe (or data.table) each column, row and cell has a number. you can refer to them with this number"
   ]
  },
  {
   "cell_type": "code",
   "execution_count": 63,
   "id": "fb701d65",
   "metadata": {},
   "outputs": [
    {
     "data": {
      "text/html": [
       "<table>\n",
       "<thead><tr><th scope=col>task.type</th></tr></thead>\n",
       "<tbody>\n",
       "\t<tr><td>shopping</td></tr>\n",
       "\t<tr><td>shopping</td></tr>\n",
       "\t<tr><td>shopping</td></tr>\n",
       "\t<tr><td>shopping</td></tr>\n",
       "\t<tr><td>chores2 </td></tr>\n",
       "\t<tr><td>chores2 </td></tr>\n",
       "\t<tr><td>chores2 </td></tr>\n",
       "\t<tr><td>chores2 </td></tr>\n",
       "</tbody>\n",
       "</table>\n"
      ],
      "text/latex": [
       "\\begin{tabular}{r|l}\n",
       " task.type\\\\\n",
       "\\hline\n",
       "\t shopping\\\\\n",
       "\t shopping\\\\\n",
       "\t shopping\\\\\n",
       "\t shopping\\\\\n",
       "\t chores2 \\\\\n",
       "\t chores2 \\\\\n",
       "\t chores2 \\\\\n",
       "\t chores2 \\\\\n",
       "\\end{tabular}\n"
      ],
      "text/markdown": [
       "\n",
       "| task.type |\n",
       "|---|\n",
       "| shopping |\n",
       "| shopping |\n",
       "| shopping |\n",
       "| shopping |\n",
       "| chores2  |\n",
       "| chores2  |\n",
       "| chores2  |\n",
       "| chores2  |\n",
       "\n"
      ],
      "text/plain": [
       "  task.type\n",
       "1 shopping \n",
       "2 shopping \n",
       "3 shopping \n",
       "4 shopping \n",
       "5 chores2  \n",
       "6 chores2  \n",
       "7 chores2  \n",
       "8 chores2  "
      ]
     },
     "metadata": {},
     "output_type": "display_data"
    }
   ],
   "source": [
    "#columns\n",
    "weekend.list[,1]\n"
   ]
  },
  {
   "cell_type": "code",
   "execution_count": 62,
   "id": "56dd56cd",
   "metadata": {},
   "outputs": [
    {
     "data": {
      "text/html": [
       "<table>\n",
       "<thead><tr><th scope=col>tasks</th></tr></thead>\n",
       "<tbody>\n",
       "\t<tr><td>apples      </td></tr>\n",
       "\t<tr><td>soy sauce   </td></tr>\n",
       "\t<tr><td>noodles     </td></tr>\n",
       "\t<tr><td>mince       </td></tr>\n",
       "\t<tr><td>taxes       </td></tr>\n",
       "\t<tr><td>clean sink  </td></tr>\n",
       "\t<tr><td>water plants</td></tr>\n",
       "\t<tr><td>write essay </td></tr>\n",
       "</tbody>\n",
       "</table>\n"
      ],
      "text/latex": [
       "\\begin{tabular}{r|l}\n",
       " tasks\\\\\n",
       "\\hline\n",
       "\t apples      \\\\\n",
       "\t soy sauce   \\\\\n",
       "\t noodles     \\\\\n",
       "\t mince       \\\\\n",
       "\t taxes       \\\\\n",
       "\t clean sink  \\\\\n",
       "\t water plants\\\\\n",
       "\t write essay \\\\\n",
       "\\end{tabular}\n"
      ],
      "text/markdown": [
       "\n",
       "| tasks |\n",
       "|---|\n",
       "| apples       |\n",
       "| soy sauce    |\n",
       "| noodles      |\n",
       "| mince        |\n",
       "| taxes        |\n",
       "| clean sink   |\n",
       "| water plants |\n",
       "| write essay  |\n",
       "\n"
      ],
      "text/plain": [
       "  tasks       \n",
       "1 apples      \n",
       "2 soy sauce   \n",
       "3 noodles     \n",
       "4 mince       \n",
       "5 taxes       \n",
       "6 clean sink  \n",
       "7 water plants\n",
       "8 write essay "
      ]
     },
     "metadata": {},
     "output_type": "display_data"
    }
   ],
   "source": [
    "weekend.list[,2]\n"
   ]
  },
  {
   "cell_type": "markdown",
   "id": "7f2a360e",
   "metadata": {},
   "source": [
    "weekend.list[,3]"
   ]
  },
  {
   "cell_type": "code",
   "execution_count": 66,
   "id": "7b4665da",
   "metadata": {},
   "outputs": [
    {
     "data": {
      "text/html": [
       "<table>\n",
       "<thead><tr><th scope=col>task.type</th><th scope=col>tasks</th></tr></thead>\n",
       "<tbody>\n",
       "\t<tr><td>shopping</td><td>apples  </td></tr>\n",
       "</tbody>\n",
       "</table>\n"
      ],
      "text/latex": [
       "\\begin{tabular}{r|ll}\n",
       " task.type & tasks\\\\\n",
       "\\hline\n",
       "\t shopping & apples  \\\\\n",
       "\\end{tabular}\n"
      ],
      "text/markdown": [
       "\n",
       "| task.type | tasks |\n",
       "|---|---|\n",
       "| shopping | apples   |\n",
       "\n"
      ],
      "text/plain": [
       "  task.type tasks \n",
       "1 shopping  apples"
      ]
     },
     "metadata": {},
     "output_type": "display_data"
    }
   ],
   "source": [
    "#rows\n",
    "weekend.list[1,]"
   ]
  },
  {
   "cell_type": "code",
   "execution_count": 65,
   "id": "250c5ba5",
   "metadata": {},
   "outputs": [
    {
     "data": {
      "text/html": [
       "<table>\n",
       "<thead><tr><th scope=col>task.type</th><th scope=col>tasks</th></tr></thead>\n",
       "<tbody>\n",
       "\t<tr><td>chores2     </td><td>water plants</td></tr>\n",
       "</tbody>\n",
       "</table>\n"
      ],
      "text/latex": [
       "\\begin{tabular}{r|ll}\n",
       " task.type & tasks\\\\\n",
       "\\hline\n",
       "\t chores2      & water plants\\\\\n",
       "\\end{tabular}\n"
      ],
      "text/markdown": [
       "\n",
       "| task.type | tasks |\n",
       "|---|---|\n",
       "| chores2      | water plants |\n",
       "\n"
      ],
      "text/plain": [
       "  task.type tasks       \n",
       "1 chores2   water plants"
      ]
     },
     "metadata": {},
     "output_type": "display_data"
    }
   ],
   "source": [
    "weekend.list[7,]\n"
   ]
  },
  {
   "cell_type": "code",
   "execution_count": 64,
   "id": "b2207609",
   "metadata": {
    "scrolled": true
   },
   "outputs": [
    {
     "data": {
      "text/html": [
       "<table>\n",
       "<thead><tr><th scope=col>tasks</th></tr></thead>\n",
       "<tbody>\n",
       "\t<tr><td>mince</td></tr>\n",
       "</tbody>\n",
       "</table>\n"
      ],
      "text/latex": [
       "\\begin{tabular}{r|l}\n",
       " tasks\\\\\n",
       "\\hline\n",
       "\t mince\\\\\n",
       "\\end{tabular}\n"
      ],
      "text/markdown": [
       "\n",
       "| tasks |\n",
       "|---|\n",
       "| mince |\n",
       "\n"
      ],
      "text/plain": [
       "  tasks\n",
       "1 mince"
      ]
     },
     "metadata": {},
     "output_type": "display_data"
    }
   ],
   "source": [
    "#cells\n",
    "weekend.list[4,2]"
   ]
  },
  {
   "cell_type": "markdown",
   "id": "14b0efc0",
   "metadata": {},
   "source": [
    "Write some code yourself to find specific values"
   ]
  },
  {
   "cell_type": "code",
   "execution_count": 70,
   "id": "fc12d196",
   "metadata": {},
   "outputs": [],
   "source": [
    "#Write code to print the cell that has the value \"clean sink\"\n",
    "\n"
   ]
  },
  {
   "cell_type": "code",
   "execution_count": 71,
   "id": "1fbfeaf8",
   "metadata": {},
   "outputs": [],
   "source": [
    "#Write code to find the value of the cell in second row of the first column\n",
    "\n"
   ]
  },
  {
   "cell_type": "markdown",
   "id": "fd8e9f89",
   "metadata": {},
   "source": [
    "As a note: usually columns have names (like \"tasks\" in our data.table) but often rows don't"
   ]
  }
 ],
 "metadata": {
  "kernelspec": {
   "display_name": "R",
   "language": "R",
   "name": "ir"
  },
  "language_info": {
   "codemirror_mode": "r",
   "file_extension": ".r",
   "mimetype": "text/x-r-source",
   "name": "R",
   "pygments_lexer": "r",
   "version": "3.6.1"
  }
 },
 "nbformat": 4,
 "nbformat_minor": 5
}
